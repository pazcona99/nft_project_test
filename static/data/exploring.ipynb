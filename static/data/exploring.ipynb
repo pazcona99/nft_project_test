{
 "cells": [
  {
   "cell_type": "code",
   "execution_count": null,
   "metadata": {},
   "outputs": [],
   "source": [
    "# add your data (ie: CSV, JSON, etc.) to the static/data folder \n",
    "# explore the data using this notebook if you want "
   ]
  }
 ],
 "metadata": {
  "language_info": {
   "name": "python"
  },
  "orig_nbformat": 4
 },
 "nbformat": 4,
 "nbformat_minor": 2
}
